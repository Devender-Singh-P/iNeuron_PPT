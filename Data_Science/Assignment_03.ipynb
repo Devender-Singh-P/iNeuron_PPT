{
 "cells": [
  {
   "cell_type": "markdown",
   "metadata": {},
   "source": [
    "1. Scenario: A company wants to analyze the sales performance of its products in different regions. They have collected the following data:\n",
    "\n",
    "Region A: [10, 15, 12, 8, 14]\n",
    "\n",
    "Region B: [18, 20, 16, 22, 25]\n",
    "\n",
    "Calculate the mean sales for each region."
   ]
  },
  {
   "cell_type": "code",
   "execution_count": 1,
   "metadata": {},
   "outputs": [
    {
     "name": "stdout",
     "output_type": "stream",
     "text": [
      "Mean sales for Region A: 11.8\n",
      "Mean sales for Region B: 20.2\n"
     ]
    }
   ],
   "source": [
    "def calculate_mean(sales):\n",
    "    total_sales = sum(sales)\n",
    "    mean_sales = total_sales / len(sales)\n",
    "    return mean_sales\n",
    "\n",
    "# Sales data for Region A\n",
    "region_a_sales = [10, 15, 12, 8, 14]\n",
    "mean_sales_region_a = calculate_mean(region_a_sales)\n",
    "print(\"Mean sales for Region A:\", mean_sales_region_a)\n",
    "\n",
    "# Sales data for Region B\n",
    "region_b_sales = [18, 20, 16, 22, 25]\n",
    "mean_sales_region_b = calculate_mean(region_b_sales)\n",
    "print(\"Mean sales for Region B:\", mean_sales_region_b)\n"
   ]
  },
  {
   "cell_type": "markdown",
   "metadata": {},
   "source": [
    "2. Scenario: A survey is conducted to measure customer satisfaction on a scale of 1 to 5. The data collected is as follows:\n",
    "\n",
    "[4, 5, 2, 3, 5, 4, 3, 2, 4, 5]\n",
    "\n",
    "Calculate the mode of the survey responses."
   ]
  },
  {
   "cell_type": "code",
   "execution_count": 2,
   "metadata": {},
   "outputs": [
    {
     "name": "stdout",
     "output_type": "stream",
     "text": [
      "Mode of the survey responses: 4\n"
     ]
    }
   ],
   "source": [
    "from collections import Counter\n",
    "\n",
    "def calculate_mode(data):\n",
    "    data_counter = Counter(data)\n",
    "    mode = data_counter.most_common(1)[0][0]\n",
    "    return mode\n",
    "\n",
    "survey_responses = [4, 5, 2, 3, 5, 4, 3, 2, 4, 5]\n",
    "mode = calculate_mode(survey_responses)\n",
    "print(\"Mode of the survey responses:\", mode)\n"
   ]
  },
  {
   "cell_type": "markdown",
   "metadata": {},
   "source": [
    "3. Scenario: A company wants to compare the salaries of two departments. The salary data for Department A and Department B are as follows:\n",
    "\n",
    "Department A: [5000, 6000, 5500, 7000]\n",
    "\n",
    "Department B: [4500, 5500, 5800, 6000, 5200]\n",
    "\n",
    "Calculate the median salary for each department."
   ]
  },
  {
   "cell_type": "code",
   "execution_count": 3,
   "metadata": {},
   "outputs": [
    {
     "name": "stdout",
     "output_type": "stream",
     "text": [
      "Median salary for Department A: 5750.0\n",
      "Median salary for Department B: 5500\n"
     ]
    }
   ],
   "source": [
    "def calculate_median(salaries):\n",
    "    sorted_salaries = sorted(salaries)\n",
    "    n = len(sorted_salaries)\n",
    "    if n % 2 == 0:\n",
    "        median = (sorted_salaries[n // 2 - 1] + sorted_salaries[n // 2]) / 2\n",
    "    else:\n",
    "        median = sorted_salaries[n // 2]\n",
    "    return median\n",
    "\n",
    "# Salary data for Department A\n",
    "department_a_salaries = [5000, 6000, 5500, 7000]\n",
    "median_salary_department_a = calculate_median(department_a_salaries)\n",
    "print(\"Median salary for Department A:\", median_salary_department_a)\n",
    "\n",
    "# Salary data for Department B\n",
    "department_b_salaries = [4500, 5500, 5800, 6000, 5200]\n",
    "median_salary_department_b = calculate_median(department_b_salaries)\n",
    "print(\"Median salary for Department B:\", median_salary_department_b)\n"
   ]
  },
  {
   "cell_type": "markdown",
   "metadata": {},
   "source": [
    "4. Scenario: A data analyst wants to determine the variability in the daily stock prices of a company. The data collected is as follows:\n",
    "\n",
    "[25.5, 24.8, 26.1, 25.3, 24.9]\n",
    "\n",
    "Calculate the range of the stock prices."
   ]
  },
  {
   "cell_type": "code",
   "execution_count": 4,
   "metadata": {},
   "outputs": [
    {
     "name": "stdout",
     "output_type": "stream",
     "text": [
      "Range of stock prices: 1.3000000000000007\n"
     ]
    }
   ],
   "source": [
    "def calculate_range(prices):\n",
    "    minimum_price = min(prices)\n",
    "    maximum_price = max(prices)\n",
    "    price_range = maximum_price - minimum_price\n",
    "    return price_range\n",
    "\n",
    "stock_prices = [25.5, 24.8, 26.1, 25.3, 24.9]\n",
    "price_range = calculate_range(stock_prices)\n",
    "print(\"Range of stock prices:\", price_range)\n"
   ]
  },
  {
   "cell_type": "markdown",
   "metadata": {},
   "source": [
    "5. Scenario: A study is conducted to compare the performance of two different teaching methods. The test scores of the students in each group are as follows:\n",
    "\n",
    "Group A: [85, 90, 92, 88, 91]\n",
    "\n",
    "Group B: [82, 88, 90, 86, 87]\n",
    "\n",
    "Perform a t-test to determine if there is a significant difference in the mean scores between the two groups."
   ]
  },
  {
   "cell_type": "code",
   "execution_count": 6,
   "metadata": {},
   "outputs": [
    {
     "name": "stdout",
     "output_type": "stream",
     "text": [
      "Collecting scipy\n",
      "  Downloading scipy-1.11.1-cp311-cp311-win_amd64.whl (44.0 MB)\n",
      "     --------------------------------------- 44.0/44.0 MB 10.7 MB/s eta 0:00:00\n",
      "Collecting numpy<1.28.0,>=1.21.6\n",
      "  Downloading numpy-1.25.1-cp311-cp311-win_amd64.whl (15.0 MB)\n",
      "     --------------------------------------- 15.0/15.0 MB 13.9 MB/s eta 0:00:00\n",
      "Installing collected packages: numpy, scipy\n",
      "Successfully installed numpy-1.25.1 scipy-1.11.1\n",
      "Note: you may need to restart the kernel to use updated packages.\n"
     ]
    },
    {
     "name": "stderr",
     "output_type": "stream",
     "text": [
      "\n",
      "[notice] A new release of pip available: 22.3.1 -> 23.1.2\n",
      "[notice] To update, run: python.exe -m pip install --upgrade pip\n"
     ]
    }
   ],
   "source": [
    "pip install scipy"
   ]
  },
  {
   "cell_type": "code",
   "execution_count": 1,
   "metadata": {},
   "outputs": [
    {
     "name": "stdout",
     "output_type": "stream",
     "text": [
      "T-Statistic: 1.4312528946642733\n",
      "P-Value: 0.19023970239078333\n"
     ]
    }
   ],
   "source": [
    "from scipy import stats\n",
    "\n",
    "def perform_ttest(group_a_scores, group_b_scores):\n",
    "    t_statistic, p_value = stats.ttest_ind(group_a_scores, group_b_scores)\n",
    "    return t_statistic, p_value\n",
    "\n",
    "# Scores for Group A\n",
    "group_a_scores = [85, 90, 92, 88, 91]\n",
    "\n",
    "# Scores for Group B\n",
    "group_b_scores = [82, 88, 90, 86, 87]\n",
    "\n",
    "# Perform t-test\n",
    "t_stat, p_val = perform_ttest(group_a_scores, group_b_scores)\n",
    "\n",
    "# Print the results\n",
    "print(\"T-Statistic:\", t_stat)\n",
    "print(\"P-Value:\", p_val)\n"
   ]
  },
  {
   "cell_type": "markdown",
   "metadata": {},
   "source": [
    "6. Scenario: A company wants to analyze the relationship between advertising expenditure and sales. The data collected is as follows:\n",
    "\n",
    "Advertising Expenditure (in thousands): [10, 15, 12, 8, 14]\n",
    "\n",
    "Sales (in thousands): [25, 30, 28, 20, 26]\n",
    "\n",
    "Calculate the correlation coefficient between advertising expenditure and sales."
   ]
  },
  {
   "cell_type": "code",
   "execution_count": 2,
   "metadata": {},
   "outputs": [
    {
     "name": "stdout",
     "output_type": "stream",
     "text": [
      "Correlation Coefficient: 0.8757511375750132\n"
     ]
    }
   ],
   "source": [
    "import numpy as np\n",
    "\n",
    "def calculate_correlation(advertising_expenditure, sales):\n",
    "    correlation = np.corrcoef(advertising_expenditure, sales)[0, 1]\n",
    "    return correlation\n",
    "\n",
    "# Advertising Expenditure (in thousands)\n",
    "advertising_expenditure = [10, 15, 12, 8, 14]\n",
    "\n",
    "# Sales (in thousands)\n",
    "sales = [25, 30, 28, 20, 26]\n",
    "\n",
    "# Calculate correlation coefficient\n",
    "correlation_coefficient = calculate_correlation(advertising_expenditure, sales)\n",
    "\n",
    "# Print the correlation coefficient\n",
    "print(\"Correlation Coefficient:\", correlation_coefficient)\n"
   ]
  },
  {
   "cell_type": "markdown",
   "metadata": {},
   "source": [
    "7. Scenario: A survey is conducted to measure the heights of a group of people. The data collected is as follows:\n",
    "\n",
    "[160, 170, 165, 155, 175, 180, 170]\n",
    "\n",
    "Calculate the standard deviation of the heights."
   ]
  },
  {
   "cell_type": "code",
   "execution_count": 3,
   "metadata": {},
   "outputs": [
    {
     "name": "stdout",
     "output_type": "stream",
     "text": [
      "Standard Deviation of Heights: 7.953949089757174\n"
     ]
    }
   ],
   "source": [
    "import numpy as np\n",
    "\n",
    "def calculate_std_dev(heights):\n",
    "    std_dev = np.std(heights)\n",
    "    return std_dev\n",
    "\n",
    "# Heights data\n",
    "heights = [160, 170, 165, 155, 175, 180, 170]\n",
    "\n",
    "# Calculate standard deviation\n",
    "std_deviation = calculate_std_dev(heights)\n",
    "\n",
    "# Print the standard deviation\n",
    "print(\"Standard Deviation of Heights:\", std_deviation)\n"
   ]
  },
  {
   "cell_type": "markdown",
   "metadata": {},
   "source": [
    "8. Scenario: A company wants to analyze the relationship between employee tenure and job satisfaction. The data collected is as follows:\n",
    "\n",
    "Employee Tenure (in years): [2, 3, 5, 4, 6, 2, 4]\n",
    "\n",
    "Job Satisfaction (on a scale of 1 to 10): [7, 8, 6, 9, 5, 7, 6]\n",
    "\n",
    "Perform a linear regression analysis to predict job satisfaction based on employee tenure."
   ]
  },
  {
   "cell_type": "code",
   "execution_count": 2,
   "metadata": {},
   "outputs": [
    {
     "name": "stdout",
     "output_type": "stream",
     "text": [
      "Collecting scikit-learn\n",
      "  Downloading scikit_learn-1.3.0-cp311-cp311-win_amd64.whl (9.2 MB)\n",
      "     ---------------------------------------- 9.2/9.2 MB 20.3 MB/s eta 0:00:00\n",
      "Requirement already satisfied: numpy>=1.17.3 in c:\\users\\darthvader\\appdata\\local\\programs\\python\\python311\\lib\\site-packages (from scikit-learn) (1.25.1)\n",
      "Requirement already satisfied: scipy>=1.5.0 in c:\\users\\darthvader\\appdata\\local\\programs\\python\\python311\\lib\\site-packages (from scikit-learn) (1.11.1)\n",
      "Collecting joblib>=1.1.1\n",
      "  Downloading joblib-1.3.1-py3-none-any.whl (301 kB)\n",
      "     ---------------------------------------- 302.0/302.0 kB ? eta 0:00:00\n",
      "Collecting threadpoolctl>=2.0.0\n",
      "  Downloading threadpoolctl-3.2.0-py3-none-any.whl (15 kB)\n",
      "Installing collected packages: threadpoolctl, joblib, scikit-learn\n",
      "Successfully installed joblib-1.3.1 scikit-learn-1.3.0 threadpoolctl-3.2.0\n",
      "Note: you may need to restart the kernel to use updated packages.\n"
     ]
    },
    {
     "name": "stderr",
     "output_type": "stream",
     "text": [
      "\n",
      "[notice] A new release of pip available: 22.3.1 -> 23.1.2\n",
      "[notice] To update, run: python.exe -m pip install --upgrade pip\n"
     ]
    }
   ],
   "source": [
    "pip install scikit-learn"
   ]
  },
  {
   "cell_type": "code",
   "execution_count": 1,
   "metadata": {},
   "outputs": [
    {
     "name": "stdout",
     "output_type": "stream",
     "text": [
      "Intercept: 8.595744680851062\n",
      "Coefficient: -0.4680851063829787\n"
     ]
    }
   ],
   "source": [
    "from sklearn.linear_model import LinearRegression\n",
    "import numpy as np\n",
    "\n",
    "def perform_linear_regression(tenure, satisfaction):\n",
    "    X = np.array(tenure).reshape(-1, 1)\n",
    "    y = np.array(satisfaction)\n",
    "    reg = LinearRegression().fit(X, y)\n",
    "    return reg\n",
    "\n",
    "# Employee Tenure (in years)\n",
    "tenure = [2, 3, 5, 4, 6, 2, 4]\n",
    "\n",
    "# Job Satisfaction (on a scale of 1 to 10)\n",
    "satisfaction = [7, 8, 6, 9, 5, 7, 6]\n",
    "\n",
    "# Perform linear regression\n",
    "regression_model = perform_linear_regression(tenure, satisfaction)\n",
    "\n",
    "# Print the coefficients\n",
    "print(\"Intercept:\", regression_model.intercept_)\n",
    "print(\"Coefficient:\", regression_model.coef_[0])\n"
   ]
  },
  {
   "cell_type": "markdown",
   "metadata": {},
   "source": [
    "9. Scenario: A study is conducted to compare the effectiveness of two different medications. The recovery times of the patients in each group are as follows:\n",
    "\n",
    "Medication A: [10, 12, 14, 11, 13]\n",
    "\n",
    "Medication B: [15, 17, 16, 14, 18]\n",
    "\n",
    "Perform an analysis of variance (ANOVA) to determine if there is a significant difference in the mean recovery times between the two medications."
   ]
  },
  {
   "cell_type": "code",
   "execution_count": 2,
   "metadata": {},
   "outputs": [
    {
     "name": "stdout",
     "output_type": "stream",
     "text": [
      "F-Value: 16.0\n",
      "P-Value: 0.003949772803445326\n"
     ]
    }
   ],
   "source": [
    "from scipy import stats\n",
    "\n",
    "def perform_anova(medication_a, medication_b):\n",
    "    f_value, p_value = stats.f_oneway(medication_a, medication_b)\n",
    "    return f_value, p_value\n",
    "\n",
    "# Recovery times for Medication A\n",
    "medication_a_recovery_times = [10, 12, 14, 11, 13]\n",
    "\n",
    "# Recovery times for Medication B\n",
    "medication_b_recovery_times = [15, 17, 16, 14, 18]\n",
    "\n",
    "# Perform ANOVA\n",
    "f_value, p_val = perform_anova(medication_a_recovery_times, medication_b_recovery_times)\n",
    "\n",
    "# Print the results\n",
    "print(\"F-Value:\", f_value)\n",
    "print(\"P-Value:\", p_val)\n"
   ]
  },
  {
   "cell_type": "markdown",
   "metadata": {},
   "source": [
    "10. Scenario: A company wants to analyze customer feedback ratings on a scale of 1 to 10. The data collected is\n",
    "\n",
    "as follows:\n",
    "\n",
    "[8, 9, 7, 6, 8, 10, 9, 8, 7, 8]\n",
    "\n",
    "Calculate the 75th percentile of the feedback ratings."
   ]
  },
  {
   "cell_type": "code",
   "execution_count": 4,
   "metadata": {},
   "outputs": [
    {
     "name": "stdout",
     "output_type": "stream",
     "text": [
      "75th Percentile of Feedback Ratings: 8.75\n"
     ]
    }
   ],
   "source": [
    "import numpy as np\n",
    "\n",
    "def calculate_percentile(data, percentile):\n",
    "    result = np.percentile(data, percentile)\n",
    "    return result\n",
    "\n",
    "# Feedback ratings\n",
    "feedback_ratings = [8, 9, 7, 6, 8, 10, 9, 8, 7, 8]\n",
    "\n",
    "# Calculate 75th percentile\n",
    "percentile_75 = calculate_percentile(feedback_ratings, 75)\n",
    "\n",
    "# Print the 75th percentile\n",
    "print(\"75th Percentile of Feedback Ratings:\", percentile_75)\n"
   ]
  },
  {
   "cell_type": "markdown",
   "metadata": {},
   "source": [
    "11. Scenario: A quality control department wants to test the weight consistency of a product. The weights of a sample of products are as follows:\n",
    "\n",
    "[10.2, 9.8, 10.0, 10.5, 10.3, 10.1]\n",
    "\n",
    "Perform a hypothesis test to determine if the mean weight differs significantly from 10 grams."
   ]
  },
  {
   "cell_type": "code",
   "execution_count": 5,
   "metadata": {},
   "outputs": [
    {
     "name": "stdout",
     "output_type": "stream",
     "text": [
      "T-Statistic: 1.5126584522688367\n",
      "P-Value: 0.19077595151110102\n"
     ]
    }
   ],
   "source": [
    "from scipy import stats\n",
    "\n",
    "def perform_ttest(sample, population_mean):\n",
    "    t_statistic, p_value = stats.ttest_1samp(sample, population_mean)\n",
    "    return t_statistic, p_value\n",
    "\n",
    "# Weight data of the sample\n",
    "sample_weights = [10.2, 9.8, 10.0, 10.5, 10.3, 10.1]\n",
    "\n",
    "# Population mean to test against\n",
    "population_mean = 10.0\n",
    "\n",
    "# Perform one-sample t-test\n",
    "t_stat, p_val = perform_ttest(sample_weights, population_mean)\n",
    "\n",
    "# Print the results\n",
    "print(\"T-Statistic:\", t_stat)\n",
    "print(\"P-Value:\", p_val)\n"
   ]
  },
  {
   "cell_type": "markdown",
   "metadata": {},
   "source": [
    "12. Scenario: A company wants to analyze the click-through rates of two different website designs. The number of clicks for each design is as follows:\n",
    "\n",
    "Design A: [100, 120, 110, 90, 95]\n",
    "\n",
    "Design B: [80, 85, 90, 95, 100]\n",
    "\n",
    "Perform a chi-square test to determine if there is a significant difference in the click-through rates between the two designs."
   ]
  },
  {
   "cell_type": "code",
   "execution_count": 6,
   "metadata": {},
   "outputs": [
    {
     "name": "stdout",
     "output_type": "stream",
     "text": [
      "Chi-Square Statistic: 6.110658166925435\n",
      "P-Value: 0.19103526314060296\n"
     ]
    }
   ],
   "source": [
    "from scipy import stats\n",
    "import numpy as np\n",
    "\n",
    "def perform_chi_square(design_a_clicks, design_b_clicks):\n",
    "    observed = np.array([design_a_clicks, design_b_clicks])\n",
    "    chi2_statistic, p_value, _, _ = stats.chi2_contingency(observed)\n",
    "    return chi2_statistic, p_value\n",
    "\n",
    "# Clicks for Design A\n",
    "design_a_clicks = [100, 120, 110, 90, 95]\n",
    "\n",
    "# Clicks for Design B\n",
    "design_b_clicks = [80, 85, 90, 95, 100]\n",
    "\n",
    "# Perform chi-square test\n",
    "chi2_stat, p_val = perform_chi_square(design_a_clicks, design_b_clicks)\n",
    "\n",
    "# Print the results\n",
    "print(\"Chi-Square Statistic:\", chi2_stat)\n",
    "print(\"P-Value:\", p_val)\n"
   ]
  },
  {
   "cell_type": "markdown",
   "metadata": {},
   "source": [
    "13. Scenario: A survey is conducted to measure customer satisfaction with a product on a scale of 1 to 10. The data collected is as follows:\n",
    "\n",
    "[7, 9, 6, 8, 10, 7, 8, 9, 7, 8]\n",
    "\n",
    "Calculate the 95% confidence interval for the population mean satisfaction score."
   ]
  },
  {
   "cell_type": "code",
   "execution_count": 7,
   "metadata": {},
   "outputs": [
    {
     "name": "stdout",
     "output_type": "stream",
     "text": [
      "95% Confidence Interval: (7.157969611381835, 8.642030388618165)\n"
     ]
    }
   ],
   "source": [
    "from scipy import stats\n",
    "import numpy as np\n",
    "\n",
    "def calculate_confidence_interval(data, confidence_level):\n",
    "    sample_mean = np.mean(data)\n",
    "    z_critical = stats.norm.ppf(1 - (1 - confidence_level) / 2)\n",
    "    standard_error = stats.sem(data)\n",
    "    margin_of_error = z_critical * standard_error\n",
    "    confidence_interval = (sample_mean - margin_of_error, sample_mean + margin_of_error)\n",
    "    return confidence_interval\n",
    "\n",
    "# Satisfaction scores\n",
    "satisfaction_scores = [7, 9, 6, 8, 10, 7, 8, 9, 7, 8]\n",
    "\n",
    "# Confidence level (in decimal form)\n",
    "confidence_level = 0.95\n",
    "\n",
    "# Calculate confidence interval\n",
    "interval = calculate_confidence_interval(satisfaction_scores, confidence_level)\n",
    "\n",
    "# Print the confidence interval\n",
    "print(\"95% Confidence Interval:\", interval)\n"
   ]
  },
  {
   "cell_type": "markdown",
   "metadata": {},
   "source": [
    "14. Scenario: A company wants to analyze the effect of temperature on product performance. The data collected is as follows:\n",
    "\n",
    "Temperature (in degrees Celsius): [20, 22, 23, 19, 21]\n",
    "\n",
    "Performance (on a scale of 1 to 10): [8, 7, 9, 6, 8]\n",
    "\n",
    "Perform a simple linear regression to predict performance based on temperature."
   ]
  },
  {
   "cell_type": "code",
   "execution_count": 8,
   "metadata": {},
   "outputs": [
    {
     "name": "stdout",
     "output_type": "stream",
     "text": [
      "Intercept: -2.8999999999999986\n",
      "Coefficient: 0.4999999999999999\n"
     ]
    }
   ],
   "source": [
    "from sklearn.linear_model import LinearRegression\n",
    "import numpy as np\n",
    "\n",
    "def perform_linear_regression(temperature, performance):\n",
    "    X = np.array(temperature).reshape(-1, 1)\n",
    "    y = np.array(performance)\n",
    "    reg = LinearRegression().fit(X, y)\n",
    "    return reg\n",
    "\n",
    "# Temperature (in degrees Celsius)\n",
    "temperature = [20, 22, 23, 19, 21]\n",
    "\n",
    "# Performance (on a scale of 1 to 10)\n",
    "performance = [8, 7, 9, 6, 8]\n",
    "\n",
    "# Perform linear regression\n",
    "regression_model = perform_linear_regression(temperature, performance)\n",
    "\n",
    "# Print the coefficients\n",
    "print(\"Intercept:\", regression_model.intercept_)\n",
    "print(\"Coefficient:\", regression_model.coef_[0])\n"
   ]
  },
  {
   "cell_type": "markdown",
   "metadata": {},
   "source": [
    "15. Scenario: A study is conducted to compare the preferences of two groups of participants. The preferences are measured on a Likert scale from 1 to 5. The data collected is as follows:\n",
    "\n",
    "Group A: [4, 3, 5, 2, 4]\n",
    "\n",
    "Group B: [3, 2, 4, 3, 3]\n",
    "\n",
    "Perform a Mann-Whitney U test to determine if there is a significant difference in the median preferences between the two groups."
   ]
  },
  {
   "cell_type": "code",
   "execution_count": 9,
   "metadata": {},
   "outputs": [
    {
     "name": "stdout",
     "output_type": "stream",
     "text": [
      "U-Statistic: 17.0\n",
      "P-Value: 0.380836480306712\n"
     ]
    }
   ],
   "source": [
    "from scipy import stats\n",
    "\n",
    "def perform_mann_whitney(group_a_preferences, group_b_preferences):\n",
    "    u_statistic, p_value = stats.mannwhitneyu(group_a_preferences, group_b_preferences, alternative='two-sided')\n",
    "    return u_statistic, p_value\n",
    "\n",
    "# Preferences for Group A\n",
    "group_a_preferences = [4, 3, 5, 2, 4]\n",
    "\n",
    "# Preferences for Group B\n",
    "group_b_preferences = [3, 2, 4, 3, 3]\n",
    "\n",
    "# Perform Mann-Whitney U test\n",
    "u_stat, p_val = perform_mann_whitney(group_a_preferences, group_b_preferences)\n",
    "\n",
    "# Print the results\n",
    "print(\"U-Statistic:\", u_stat)\n",
    "print(\"P-Value:\", p_val)\n"
   ]
  },
  {
   "cell_type": "markdown",
   "metadata": {},
   "source": [
    "16. Scenario: A company wants to analyze the distribution of customer ages. The data collected is as follows:\n",
    "\n",
    "[25, 30, 35, 40, 45, 50, 55, 60, 65, 70]\n",
    "\n",
    "Calculate the interquartile range (IQR) of the ages."
   ]
  },
  {
   "cell_type": "code",
   "execution_count": 10,
   "metadata": {},
   "outputs": [
    {
     "name": "stdout",
     "output_type": "stream",
     "text": [
      "Interquartile Range (IQR): 22.5\n"
     ]
    }
   ],
   "source": [
    "import numpy as np\n",
    "\n",
    "def calculate_iqr(data):\n",
    "    q1 = np.percentile(data, 25)\n",
    "    q3 = np.percentile(data, 75)\n",
    "    iqr = q3 - q1\n",
    "    return iqr\n",
    "\n",
    "# Customer ages\n",
    "ages = [25, 30, 35, 40, 45, 50, 55, 60, 65, 70]\n",
    "\n",
    "# Calculate interquartile range\n",
    "iqr = calculate_iqr(ages)\n",
    "\n",
    "# Print the interquartile range\n",
    "print(\"Interquartile Range (IQR):\", iqr)\n"
   ]
  },
  {
   "cell_type": "markdown",
   "metadata": {},
   "source": [
    "17. Scenario: A study is conducted to compare the performance of three different machine learning algorithms. The accuracy scores for each algorithm are as follows:\n",
    "\n",
    "Algorithm A: [0.85, 0.80, 0.82, 0.87, 0.83]\n",
    "\n",
    "Algorithm B: [0.78, 0.82, 0.84, 0.80, 0.79]\n",
    "\n",
    "Algorithm C: [0.90, 0.88, 0.89, 0.86, 0.87]\n",
    "\n",
    "Perform a Kruskal-Wallis test to determine if there is a significant difference in the median accuracy scores between the algorithms."
   ]
  },
  {
   "cell_type": "code",
   "execution_count": 11,
   "metadata": {},
   "outputs": [
    {
     "name": "stdout",
     "output_type": "stream",
     "text": [
      "H-Statistic: 9.696947935368053\n",
      "P-Value: 0.007840333026249539\n"
     ]
    }
   ],
   "source": [
    "from scipy import stats\n",
    "\n",
    "def perform_kruskal_wallis(algorithm_a_scores, algorithm_b_scores, algorithm_c_scores):\n",
    "    h_statistic, p_value = stats.kruskal(algorithm_a_scores, algorithm_b_scores, algorithm_c_scores)\n",
    "    return h_statistic, p_value\n",
    "\n",
    "# Accuracy scores for Algorithm A\n",
    "algorithm_a_scores = [0.85, 0.80, 0.82, 0.87, 0.83]\n",
    "\n",
    "# Accuracy scores for Algorithm B\n",
    "algorithm_b_scores = [0.78, 0.82, 0.84, 0.80, 0.79]\n",
    "\n",
    "# Accuracy scores for Algorithm C\n",
    "algorithm_c_scores = [0.90, 0.88, 0.89, 0.86, 0.87]\n",
    "\n",
    "# Perform Kruskal-Wallis test\n",
    "h_stat, p_val = perform_kruskal_wallis(algorithm_a_scores, algorithm_b_scores, algorithm_c_scores)\n",
    "\n",
    "# Print the results\n",
    "print(\"H-Statistic:\", h_stat)\n",
    "print(\"P-Value:\", p_val)\n"
   ]
  },
  {
   "cell_type": "markdown",
   "metadata": {},
   "source": [
    "18. Scenario: A company wants to analyze the effect of price on sales. The data collected is as follows:\n",
    "\n",
    "Price (in dollars): [10, 15, 12, 8, 14]\n",
    "\n",
    "Sales: [100, 80, 90, 110, 95]\n",
    "\n",
    "Perform a simple linear regression to predict\n",
    "\n",
    "sales based on price."
   ]
  },
  {
   "cell_type": "code",
   "execution_count": 12,
   "metadata": {},
   "outputs": [
    {
     "name": "stdout",
     "output_type": "stream",
     "text": [
      "Intercept: 136.3719512195122\n",
      "Coefficient: -3.5060975609756095\n"
     ]
    }
   ],
   "source": [
    "from sklearn.linear_model import LinearRegression\n",
    "import numpy as np\n",
    "\n",
    "def perform_linear_regression(price, sales):\n",
    "    X = np.array(price).reshape(-1, 1)\n",
    "    y = np.array(sales)\n",
    "    reg = LinearRegression().fit(X, y)\n",
    "    return reg\n",
    "\n",
    "# Price (in dollars)\n",
    "price = [10, 15, 12, 8, 14]\n",
    "\n",
    "# Sales\n",
    "sales = [100, 80, 90, 110, 95]\n",
    "\n",
    "# Perform linear regression\n",
    "regression_model = perform_linear_regression(price, sales)\n",
    "\n",
    "# Print the coefficients\n",
    "print(\"Intercept:\", regression_model.intercept_)\n",
    "print(\"Coefficient:\", regression_model.coef_[0])\n"
   ]
  },
  {
   "cell_type": "markdown",
   "metadata": {},
   "source": [
    "19. Scenario: A survey is conducted to measure the satisfaction levels of customers with a new product. The data collected is as follows:\n",
    "\n",
    "[7, 8, 9, 6, 8, 7, 9, 7, 8, 7]\n",
    "\n",
    "Calculate the standard error of the mean satisfaction score."
   ]
  },
  {
   "cell_type": "code",
   "execution_count": 13,
   "metadata": {},
   "outputs": [
    {
     "name": "stdout",
     "output_type": "stream",
     "text": [
      "Standard Error of the Mean: 0.30550504633038933\n"
     ]
    }
   ],
   "source": [
    "import numpy as np\n",
    "\n",
    "def calculate_standard_error(data):\n",
    "    sample_mean = np.mean(data)\n",
    "    sample_size = len(data)\n",
    "    standard_deviation = np.std(data, ddof=1)\n",
    "    standard_error = standard_deviation / np.sqrt(sample_size)\n",
    "    return standard_error\n",
    "\n",
    "# Satisfaction scores\n",
    "satisfaction_scores = [7, 8, 9, 6, 8, 7, 9, 7, 8, 7]\n",
    "\n",
    "# Calculate standard error of the mean\n",
    "standard_error = calculate_standard_error(satisfaction_scores)\n",
    "\n",
    "# Print the standard error\n",
    "print(\"Standard Error of the Mean:\", standard_error)\n"
   ]
  },
  {
   "cell_type": "markdown",
   "metadata": {},
   "source": [
    "20. Scenario: A company wants to analyze the relationship between advertising expenditure and sales. The data collected is as follows:\n",
    "\n",
    "Advertising Expenditure (in thousands): [10, 15, 12, 8, 14]\n",
    "\n",
    "Sales (in thousands): [25, 30, 28, 20, 26]\n",
    "\n",
    "Perform a multiple regression analysis to predict sales based on advertising expenditure."
   ]
  },
  {
   "cell_type": "code",
   "execution_count": 15,
   "metadata": {},
   "outputs": [
    {
     "name": "stdout",
     "output_type": "stream",
     "text": [
      "Intercept: 12.20121951219512\n",
      "Coefficient: 1.152439024390244\n"
     ]
    }
   ],
   "source": [
    "from sklearn.linear_model import LinearRegression\n",
    "import numpy as np\n",
    "\n",
    "def perform_multiple_regression(advertising_expenditure, sales):\n",
    "    X = np.array(advertising_expenditure).reshape(-1, 1)\n",
    "    y = np.array(sales)\n",
    "    model = LinearRegression().fit(X, y)\n",
    "    return model\n",
    "\n",
    "# Advertising Expenditure (in thousands)\n",
    "advertising_expenditure = [10, 15, 12, 8, 14]\n",
    "\n",
    "# Sales (in thousands)\n",
    "sales = [25, 30, 28, 20, 26]\n",
    "\n",
    "# Perform multiple regression\n",
    "regression_model = perform_multiple_regression(advertising_expenditure, sales)\n",
    "\n",
    "# Print the coefficients\n",
    "print(\"Intercept:\", regression_model.intercept_)\n",
    "print(\"Coefficient:\", regression_model.coef_[0])\n"
   ]
  }
 ],
 "metadata": {
  "kernelspec": {
   "display_name": "Python 3",
   "language": "python",
   "name": "python3"
  },
  "language_info": {
   "codemirror_mode": {
    "name": "ipython",
    "version": 3
   },
   "file_extension": ".py",
   "mimetype": "text/x-python",
   "name": "python",
   "nbconvert_exporter": "python",
   "pygments_lexer": "ipython3",
   "version": "3.11.3"
  },
  "orig_nbformat": 4
 },
 "nbformat": 4,
 "nbformat_minor": 2
}
